{
 "cells": [
  {
   "cell_type": "code",
   "execution_count": 6,
   "metadata": {},
   "outputs": [],
   "source": [
    "import numpy as np"
   ]
  },
  {
   "cell_type": "code",
   "execution_count": 7,
   "metadata": {},
   "outputs": [],
   "source": [
    "#generate a q-ary lattice and it's basis\n",
    "def Matrix_Basis(n,m_1,q):\n",
    "    \"\"\"\n",
    "    Input: \n",
    "    n: The number of rows of output matrix A\n",
    "    m_1: The number of columns of output matrix A\n",
    "    q: A prime number\n",
    "    *Output: A couple includes\n",
    "    A: An nxm_1 matrix \n",
    "    T_A: Basis (as matrix) of perp. q-ary lattice corresponding to A\n",
    "    \"\"\"\n",
    "    #m_2=l*m_1\n",
    "    A=matrix(GF(q),np.random.randint(q,size=(n,m_1)))\n",
    "    C=matrix(ZZ,np.identity(m_1, dtype= int))\n",
    "    \n",
    "    #hermite normal form basis function.\n",
    "    def q_arybasis(A,q):\n",
    "        T_A=matrix(ZZ,((A).right_kernel()).basis())\n",
    "        for i in range(n):\n",
    "            T_A= matrix(ZZ,np.concatenate((T_A,matrix(q*matrix(np.identity(m_1,dtype=int))[m_1-n+i])), axis= 0))\n",
    "        T_A=T_A.T\n",
    "        return T_A\n",
    "    T_A=q_arybasis(A,q)\n",
    "    return(A,T_A)\n",
    "#=====================================================================\n",
    "def ExtBasis(A,M,T_A):\n",
    "    \"\"\"\n",
    "    *Input:\n",
    "    A: An nxm matrix in Z_q\n",
    "    T_A: Basis of perp. q-ary lattice corresponding to A\n",
    "    M: An arbitrary matrix\n",
    "    *Output: A couple\n",
    "    A_1= [A|M]\n",
    "    T_A1: Basis for perp. q-ary lattice corresponding to A_1\n",
    "    \"\"\"\n",
    "    W=matrix(ZZ,A.solve_right(-M))\n",
    "    T_A1=matrix(ZZ,(T_A.augment(W)).stack(zero_matrix(ZZ,m_2,m_1).augment(identity_matrix(ZZ,m_2))))\n",
    "    A_1=matrix(GF(q),A.augment(M))\n",
    "    return A_1, T_A1\n",
    "\n",
    "#=======================================================================\n",
    "#A TEST CASE \n",
    "#r=2\n",
    "n=5\n",
    "q= 79 #next_prime(2^10)\n",
    "m_1=20 #int(2*n*log(q,2))\n",
    "m_2=10\n",
    "\n",
    "A,T_A=Matrix_Basis(n,m_1,q)\n",
    "M=matrix(GF(q),np.random.randint(q,size=(n,m_2)))\n",
    "\n",
    "A_1,T_A1=ExtBasis(A,M,T_A)\n",
    "#l= int(log(q,r))\n",
    "#d=int(2*n*log(q,2))\n"
   ]
  },
  {
   "cell_type": "code",
   "execution_count": 8,
   "metadata": {},
   "outputs": [
    {
     "name": "stdout",
     "output_type": "stream",
     "text": [
      "[0 0 0 0 0 0 0 0 0 0 0 0 0 0 0 0 0 0 0 0]\n",
      "[0 0 0 0 0 0 0 0 0 0 0 0 0 0 0 0 0 0 0 0]\n",
      "[0 0 0 0 0 0 0 0 0 0 0 0 0 0 0 0 0 0 0 0]\n",
      "[0 0 0 0 0 0 0 0 0 0 0 0 0 0 0 0 0 0 0 0]\n",
      "[0 0 0 0 0 0 0 0 0 0 0 0 0 0 0 0 0 0 0 0]\n"
     ]
    }
   ],
   "source": [
    "print(A*T_A)"
   ]
  },
  {
   "cell_type": "code",
   "execution_count": 9,
   "metadata": {},
   "outputs": [
    {
     "data": {
      "text/plain": [
       "[0 0 0 0 0 0 0 0 0 0 0 0 0 0 0 0 0 0 0 0 0 0 0 0 0 0 0 0 0 0]\n",
       "[0 0 0 0 0 0 0 0 0 0 0 0 0 0 0 0 0 0 0 0 0 0 0 0 0 0 0 0 0 0]\n",
       "[0 0 0 0 0 0 0 0 0 0 0 0 0 0 0 0 0 0 0 0 0 0 0 0 0 0 0 0 0 0]\n",
       "[0 0 0 0 0 0 0 0 0 0 0 0 0 0 0 0 0 0 0 0 0 0 0 0 0 0 0 0 0 0]\n",
       "[0 0 0 0 0 0 0 0 0 0 0 0 0 0 0 0 0 0 0 0 0 0 0 0 0 0 0 0 0 0]"
      ]
     },
     "execution_count": 9,
     "metadata": {},
     "output_type": "execute_result"
    }
   ],
   "source": [
    "A_1*T_A1"
   ]
  },
  {
   "cell_type": "code",
   "execution_count": null,
   "metadata": {},
   "outputs": [],
   "source": []
  }
 ],
 "metadata": {
  "kernelspec": {
   "display_name": "SageMath 9.2",
   "language": "sage",
   "name": "sagemath"
  },
  "language_info": {
   "codemirror_mode": {
    "name": "ipython",
    "version": 3
   },
   "file_extension": ".py",
   "mimetype": "text/x-python",
   "name": "python",
   "nbconvert_exporter": "python",
   "pygments_lexer": "ipython3",
   "version": "3.7.7"
  }
 },
 "nbformat": 4,
 "nbformat_minor": 4
}
