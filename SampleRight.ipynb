{
 "cells": [
  {
   "cell_type": "code",
   "execution_count": 174,
   "metadata": {},
   "outputs": [],
   "source": [
    "# SampleRight from ABB10\n",
    "\n",
    "import random\n",
    "import numpy as np"
   ]
  },
  {
   "cell_type": "code",
   "execution_count": 175,
   "metadata": {},
   "outputs": [],
   "source": [
    "#GENERATE INPUTS:\n",
    "def gaussian(s,c,x):\n",
    "    \"\"\"\n",
    "    *Input: \n",
    "    s: Gaussian parameter\n",
    "    c: Gaussian mean (a real number)\n",
    "    x: Variable\n",
    "    *Output: A real number\n",
    "    exp((-pi*(x-c)^2)/s^2)   \n",
    "    \"\"\"\n",
    "    return exp((-pi*(x-c)^2)/s^2)\n",
    "\n",
    "#====================================================\n",
    "#SampleZ Al. HERE\n",
    "def sampleZalgorithm(n,s,c):\n",
    "    \"\"\"\n",
    "    On input tuple (n,s,c), this Al. returns an integer number with Gaussian distribution\n",
    "    *Input: \n",
    "    n: Security parameter\n",
    "    s: Gaussian parameter\n",
    "    c: Gaussian mean\n",
    "    *Output:\n",
    "    x: A random number with Gaussian distribution \n",
    "    \"\"\"\n",
    "    l =int(c -s*log(n,2))\n",
    "    r = int(c+ s*log(n,2))\n",
    "    i=0\n",
    "    while i<1:\n",
    "        x= random.randint(l,r)\n",
    "        accept = random.uniform(0,1)\n",
    "        if accept < gaussian(s,c,x): \n",
    "            i=i+1\n",
    "            break\n",
    "    return x\n",
    "#====================================\n",
    "\n",
    "def Random_Matrix(n,m):\n",
    "    \"\"\"\n",
    "    *Input: 2 integer n,m \n",
    "    *Output: A random RANK n matrix B(nxm) with coefficients from 0 to q\n",
    "    The output matrix has all row vectors independent\n",
    "    \"\"\"\n",
    "    B=(matrix(ZZ,np.random.randint(q,size=(1,m)))) #first vector of B\n",
    "    size_B=1\n",
    "    while size_B < n:\n",
    "        A = (matrix(ZZ,np.random.randint(q,size=(1,m))))\n",
    "        h=B.rank()\n",
    "        if ((B.stack(A))).rank()==h+1:\n",
    "            B=B.stack(A) \n",
    "            size_B=size_B+1\n",
    "    return(B)\n",
    "#==========================================\n",
    "#hermite normal form basis of a q-ary lattice.\n",
    "def q_arybasis(A_1,q):\n",
    "    \"\"\"\n",
    "    *Input: Arbitrary nxm matrix A_1 \n",
    "    *Output: A HNF of perp. q-ary lattice corresponding to A_1\n",
    "    All column vectors generate the whole lattice.\n",
    "    \"\"\"\n",
    "    k=A_1.nrows()\n",
    "    h =A_1.ncols()\n",
    "    H=matrix(ZZ,((A_1).right_kernel()).basis())\n",
    "    for i in range(k):\n",
    "        H= matrix(ZZ,np.concatenate((H,matrix(q*matrix(np.identity(h,dtype=int))[h-n+i])), axis= 0))\n",
    "    H=H.T\n",
    "    return H\n",
    "#======================================================\n",
    "def ToBasis(V,S):\n",
    "    \"\"\"\n",
    "    *Input:\n",
    "    V: Independent short lattice vectors\n",
    "    S: A basis of lattice L\n",
    "    *Output: \n",
    "    A new short basis S_1 of lattice L\n",
    "    \"\"\"\n",
    "    Q=matrix(ZZ,(S**(-1))*V)\n",
    "    T = Q.echelon_form()\n",
    "    U= Q*(T**(-1))\n",
    "    S_1=matrix(ZZ,S*U)\n",
    "    return(S_1)\n",
    "#====================================================\n",
    "\n",
    "\n",
    "#NEEDED ALG. IN SAMPLELEFT\n",
    "\n",
    "def SampleD(B,s,c):\n",
    "    \"\"\"\n",
    "    * Input:\n",
    "    B: A basis of any lattice lambda (as a Matrix whose column vectors form the whole lattice)\n",
    "    s: Gaussian parameter\n",
    "    c: Gaussian mean vector \n",
    "    * Output:\n",
    "    A vector in lattice lambda with gaussian distribution\n",
    "    \"\"\"\n",
    "    m= B.rank()\n",
    "    n= next_prime(2^10)\n",
    "    B=B.T\n",
    "    v=zero_vector(ZZ,m)\n",
    "    G=(B.gram_schmidt())[0]\n",
    "    Bc = list(zero_vector(ZZ,m))+[c]\n",
    "    Bv = list(zero_vector(ZZ,m))+[v]\n",
    "    for i in range(m,0,-1):\n",
    "        ci = Bc[i].dot_product(G[i-1])/(G[i-1].dot_product(G[i-1]))\n",
    "        si= s/(G[i-1].norm())\n",
    "        zi= sampleZalgorithm(2031,si,ci)\n",
    "        Bc[i-1]=Bc[i]-zi*B[i-1]\n",
    "        Bv[i-1] = Bv[i] +zi*B[i-1]    \n",
    "    return(Bv[0])\n",
    "\n",
    "#===================================================================================\n",
    "def SampleRight(A,B,R, T_B,u,s):  #This Alg. is in ABB10, section 4.1\n",
    "    \"\"\"*Input: \n",
    "    A : a random matrix in Z_q^{n*k}\n",
    "    B: a RANK n matrix in Z_q^{n*m}\n",
    "    R: a matrix in Z^{kxm} with coefficients are 1 or -1\n",
    "    T_B: \"short\"  basis of q-ary lattice corresponding to B\n",
    "    u : a random vector in Z_q^n\n",
    "    s: a Gaussian parameter\n",
    "    \n",
    "    *Outpt:\n",
    "    Let F_2 = (A|A*R + B). This alg. output a vector e in Z_q^{k+m} sampled from a distribution \n",
    "    statistically close to lattice Gaussian distribution of (F_2,u) with parameter s.\n",
    "    \"\"\"\n",
    "    k = A.ncols()\n",
    "    m = B.ncols()\n",
    "    F_2 =matrix(GF(q),A.augment(A*R+B))\n",
    "    #construct T_F2\n",
    "    T_F2= matrix(-R*((T_B.T)[0])).augment(matrix((T_B.T)[0]))\n",
    "    for i in range(m-1):\n",
    "        T_F2= T_F2.stack(matrix(-R*((T_B.T)[i+1])).augment(matrix((T_B.T)[i+1])))\n",
    "    I_k = identity_matrix(ZZ,k)\n",
    "    for j in range(k):  \n",
    "        w_j=I_k[j]\n",
    "        u_j= matrix(GF(q),B).solve_right(vector(GF(q),-A*w_j))\n",
    "        t_j= (matrix(ZZ,w_j-R*u_j)).augment(matrix(ZZ,u_j))\n",
    "        T_F2=T_F2.stack(t_j)\n",
    "    T_F2 = T_F2.T  \n",
    "    B_F2=q_arybasis(F_2,q)\n",
    "    F_1 = ToBasis(T_F2,B_F2)\n",
    "    t= vector(ZZ,F_2.solve_right(vector(GF(q),u)))\n",
    "    e = SampleD(F_1,sigma,-t)+t\n",
    "\n",
    "    return e\n",
    "#================================================================================\n",
    "\n",
    "# A TEST CASE\n",
    "q= 79 #next_prime(2^10)\n",
    "r=2\n",
    "n=3\n",
    "m=5\n",
    "k= 3\n",
    "A = matrix(ZZ,random_matrix(GF(q), n,k))\n",
    "B = Random_Matrix(n,m)\n",
    "T_B=q_arybasis(B,q)\n",
    "R = matrix(ZZ,random_matrix(GF(2),k,m))\n",
    "R= list(R)\n",
    "for i in range(k):\n",
    "    for j in range(m):\n",
    "        if R[i][j] ==0:\n",
    "            R[i][j]= -1\n",
    "R = matrix(R)\n",
    "u = vector(ZZ,random_vector(GF(q), n))\n"
   ]
  },
  {
   "cell_type": "code",
   "execution_count": 170,
   "metadata": {
    "tags": []
   },
   "outputs": [],
   "source": [
    "#Normalise parameter s\n",
    "def gram_schmidt_norm(S): #input matrix S whose columns are independent vectors\n",
    "    m=S.rank()\n",
    "    S_gram=((S.T).gram_schmidt()[0])\n",
    "    S_gram_norm = int(max(((S_gram.rows())[i]).norm() for i in range(m)))+1\n",
    "    return S_gram_norm\n",
    "T_B_gram_norm = gram_schmidt_norm(T_B)\n",
    "s = T_B_gram_norm * 12*sqrt(m)*log(m,2)"
   ]
  },
  {
   "cell_type": "code",
   "execution_count": 173,
   "metadata": {},
   "outputs": [
    {
     "data": {
      "text/plain": [
       "(97457, 42712, 11347, -41618, 103704, -114332, -67731, -19233)"
      ]
     },
     "execution_count": 173,
     "metadata": {},
     "output_type": "execute_result"
    }
   ],
   "source": [
    "F_2=matrix(GF(q),A.augment(A*R+B))\n",
    "t= SampleRight(A,B,R, T_B,u,s)\n",
    "t"
   ]
  },
  {
   "cell_type": "code",
   "execution_count": 172,
   "metadata": {},
   "outputs": [
    {
     "data": {
      "text/plain": [
       "True"
      ]
     },
     "execution_count": 172,
     "metadata": {},
     "output_type": "execute_result"
    }
   ],
   "source": [
    "#Check if F_2*t == u\n",
    "F_2*t == u"
   ]
  },
  {
   "cell_type": "code",
   "execution_count": 92,
   "metadata": {},
   "outputs": [
    {
     "data": {
      "image/png": "[encoded data removed]",
      "text/plain": [
       "Graphics object consisting of 1 graphics primitive"
      ]
     },
     "execution_count": 92,
     "metadata": {},
     "output_type": "execute_result"
    }
   ],
   "source": [
    "histogram([SampleRight(A,B,R, T_B,u,s) for i in range(100)])"
   ]
  },
  {
   "cell_type": "code",
   "execution_count": null,
   "metadata": {},
   "outputs": [],
   "source": []
  }
 ],
 "metadata": {
  "kernelspec": {
   "display_name": "SageMath 9.2",
   "language": "sage",
   "name": "sagemath"
  },
  "language_info": {
   "codemirror_mode": {
    "name": "ipython",
    "version": 3
   },
   "file_extension": ".py",
   "mimetype": "text/x-python",
   "name": "python",
   "nbconvert_exporter": "python",
   "pygments_lexer": "ipython3",
   "version": "3.7.7"
  }
 },
 "nbformat": 4,
 "nbformat_minor": 4
}
