{
 "cells": [
  {
   "cell_type": "code",
   "execution_count": 5,
   "metadata": {},
   "outputs": [],
   "source": [
    "#GenTrap: on input n,,m, q, r; this algorithm return a random matrix A and a basis S for \n",
    "# lattice \\lambda_perp A\n",
    "\n",
    "#m_1>=d = (1+sigma)n logq\n",
    "#m_2>=l*m_1\n",
    "import numpy as np"
   ]
  },
  {
   "cell_type": "code",
   "execution_count": 2,
   "metadata": {},
   "outputs": [],
   "source": [
    "\n",
    "def Random_Matrix(n,m):\n",
    "    \"\"\"\n",
    "    *Input: 2 integer n,m \n",
    "    *Output: A random RANK n matrix B(nxm) with coefficients from 0 to q\n",
    "    The output matrix has all column vectors independent\n",
    "    \"\"\"\n",
    "    B=(matrix(ZZ,np.random.randint(q,size=(1,m)))) #first vector of B\n",
    "    size_B=1\n",
    "    while size_B < n:\n",
    "        A = (matrix(ZZ,np.random.randint(q,size=(1,m))))\n",
    "        h=B.rank()\n",
    "        if ((B.stack(A))).rank()==h+1:\n",
    "            B=B.stack(A) \n",
    "            size_B=size_B+1\n",
    "    return(B)\n",
    "#=============================================\n",
    "\n",
    "#hermite normal form basis of a q-ary lattice.\n",
    "def q_arybasis(A_1):\n",
    "    \"\"\"\n",
    "    *Input: Arbitrary matrix A_1 \n",
    "    *Output: A HNF basis of perp. q-ary lattice corresponding to A_1\n",
    "    \"\"\"\n",
    "    H=matrix(ZZ,((A_1).right_kernel()).basis())\n",
    "    n=A_1.nrows()\n",
    "    m_1=A_1.ncols()\n",
    "    for i in range(n):\n",
    "        H= matrix(ZZ,np.concatenate((H,matrix(q*matrix(np.identity(m_1,dtype=int))[m_1-n+i])), axis= 0))\n",
    "    H=H.T\n",
    "    return H\n",
    "    \n",
    "def GenTrap(n,q,m_1,m_2,r):\n",
    "    \"\"\"\n",
    "    *Input: \n",
    "    n: Security parameter (also the number of rows of matrix A)\n",
    "    m = m_1+m_2 : The number of columns of matrix A\n",
    "    q: A prime number.\n",
    "    *Output: An nxm matrix A in Z_q and a basis (as matrix of column vectors) of perp. q-ary lattice corresponding to A.\n",
    "    \"\"\"\n",
    "    A_1=matrix(GF(q),Random_Matrix(n,m_1))\n",
    "    C=matrix(ZZ,np.identity(m_1, dtype= int))\n",
    "   \n",
    "    H=q_arybasis(A_1)\n",
    "    HH=(H-C).T\n",
    "    #generate matrix P\n",
    "    P=np.zeros((m_2,m_1),int)\n",
    "    for i in range(m_1):\n",
    "        for j in range(m_2):\n",
    "            if j==(i+1)*l-1:\n",
    "                P[j][i]=1\n",
    "    P=matrix(ZZ,P)\n",
    "\n",
    "    #generate matrix G\n",
    "    G_list=list(np.zeros(m_1,dtype=int))\n",
    "    for i in range(m_1):\n",
    "        G_list[i]=(np.matrix((HH)[i])/(2**(l-1))).astype(int)\n",
    "        for j in range(l-1):\n",
    "            G_list[i]=np.append(G_list[i],(np.matrix((HH)[i])/(r**(l-j-2))).astype(int),axis=0)\n",
    "        G_list[i]=matrix(G_list[i]).T\n",
    "    G=G_list[0]\n",
    "    for i in range(1,len(G_list)):\n",
    "            G=np.append(G,G_list[i],1)\n",
    "    G=matrix(ZZ,G)\n",
    "\n",
    "    #generate matrix U\n",
    "    U=np.identity(m_2,int)\n",
    "    for i in range(m_2):\n",
    "            if i<m_2-1:\n",
    "                U[i][i+1]=-r\n",
    "    U=matrix(ZZ,U)\n",
    "\n",
    "    #generate matrix R\n",
    "    R=np.zeros((m_1,m_2),int)\n",
    "    for i in range(m_1):\n",
    "        for j in range(m_2):\n",
    "            rand1=int((np.random.randint(4,size=1))[0])\n",
    "            if  rand1==2:\n",
    "                R[i][j]= 1\n",
    "            elif rand1== 3:\n",
    "                R[i][j]=-1\n",
    "    R=matrix(ZZ,R)\n",
    "    A_2=-A_1*(G+R)\n",
    "    A=matrix(np.concatenate((A_1,A_2),axis=1))\n",
    "    S_up=matrix(np.concatenate((((G+R)*U),R*P-C),axis=1))\n",
    "    S_down=matrix(np.concatenate((U,P),axis=1))\n",
    "    S= matrix(np.concatenate((S_up,S_down),axis=0))\n",
    "    \n",
    "    return A,S #,A_1\n",
    "    \n",
    "#================================================================\n",
    "#A TEST CASE\n",
    "n=3\n",
    "r=2 # r can be >= 2\n",
    "q= next_prime(2^10)\n",
    "m_1=int(2*n*log(q,r)) # delta = 1\n",
    "l= int(log(q,r))\n",
    "d=int(2*n*log(q,r))\n",
    "m_2=l*m_1\n",
    "#======================================\n",
    "#A,S=GenTrap(n,q,m_1,m_2,r)\n",
    "#A,S,A_1=GenTrap(n,q,m_1,m_2,r)"
   ]
  },
  {
   "cell_type": "code",
   "execution_count": 3,
   "metadata": {},
   "outputs": [],
   "source": [
    "A,S=GenTrap(n,q,m_1,m_2,r)"
   ]
  },
  {
   "cell_type": "code",
   "execution_count": 4,
   "metadata": {},
   "outputs": [
    {
     "data": {
      "text/plain": [
       "(660, 660)"
      ]
     },
     "execution_count": 4,
     "metadata": {},
     "output_type": "execute_result"
    }
   ],
   "source": [
    "S.rank(),S.ncols()"
   ]
  },
  {
   "cell_type": "code",
   "execution_count": 17,
   "metadata": {},
   "outputs": [
    {
     "data": {
      "text/plain": [
       "True"
      ]
     },
     "execution_count": 17,
     "metadata": {},
     "output_type": "execute_result"
    }
   ],
   "source": [
    "#test if S is basis of perp. lattice corresponding to A\n",
    "A*S==matrix(np.zeros((n,m_1+m_2),int))"
   ]
  },
  {
   "cell_type": "code",
   "execution_count": 4,
   "metadata": {},
   "outputs": [
    {
     "data": {
      "image/png": "[encoded data removed]",
      "text/plain": [
       "Graphics object consisting of 1 graphics primitive"
      ]
     },
     "execution_count": 4,
     "metadata": {},
     "output_type": "execute_result"
    }
   ],
   "source": [
    "#Test if A is a uniformly random matrix\n",
    "X=(A.rows())[0]\n",
    "for i in range(n-1):\n",
    "    X=np.concatenate((X,(A.rows())[i+1]))\n",
    "histogram(X)"
   ]
  },
  {
   "cell_type": "code",
   "execution_count": 5,
   "metadata": {
    "tags": []
   },
   "outputs": [
    {
     "ename": "NameError",
     "evalue": "name 'A_1' is not defined",
     "output_type": "error",
     "traceback": [
      "\u001b[0;31m---------------------------------------------------------------------------\u001b[0m",
      "\u001b[0;31mNameError\u001b[0m                                 Traceback (most recent call last)",
      "\u001b[0;32m<ipython-input-5-248a5efdc2f4>\u001b[0m in \u001b[0;36m<module>\u001b[0;34m\u001b[0m\n\u001b[0;32m----> 1\u001b[0;31m \u001b[0mA_1\u001b[0m\u001b[0;34m*\u001b[0m\u001b[0mH\u001b[0m\u001b[0;34m==\u001b[0m\u001b[0mmatrix\u001b[0m\u001b[0;34m(\u001b[0m\u001b[0mnp\u001b[0m\u001b[0;34m.\u001b[0m\u001b[0mzeros\u001b[0m\u001b[0;34m(\u001b[0m\u001b[0;34m(\u001b[0m\u001b[0mInteger\u001b[0m\u001b[0;34m(\u001b[0m\u001b[0;36m10\u001b[0m\u001b[0;34m)\u001b[0m\u001b[0;34m,\u001b[0m\u001b[0mInteger\u001b[0m\u001b[0;34m(\u001b[0m\u001b[0;36m200\u001b[0m\u001b[0;34m)\u001b[0m\u001b[0;34m)\u001b[0m\u001b[0;34m,\u001b[0m\u001b[0mint\u001b[0m\u001b[0;34m)\u001b[0m\u001b[0;34m)\u001b[0m\u001b[0;34m\u001b[0m\u001b[0;34m\u001b[0m\u001b[0m\n\u001b[0m",
      "\u001b[0;31mNameError\u001b[0m: name 'A_1' is not defined"
     ]
    }
   ],
   "source": [
    "A_1*H==matrix(np.zeros((10,200),int))"
   ]
  },
  {
   "cell_type": "code",
   "execution_count": null,
   "metadata": {
    "tags": []
   },
   "outputs": [],
   "source": [
    "matrix(GF(q),A*S)==matrix(np.zeros((10,2200),int))"
   ]
  },
  {
   "cell_type": "code",
   "execution_count": 18,
   "metadata": {},
   "outputs": [],
   "source": []
  },
  {
   "cell_type": "code",
   "execution_count": 19,
   "metadata": {},
   "outputs": [],
   "source": [
    "sigma =2000\n",
    "t=zero_vector(259)\n"
   ]
  },
  {
   "cell_type": "code",
   "execution_count": null,
   "metadata": {},
   "outputs": [],
   "source": [
    "e_1=SampleD(A, sigma, t) - t"
   ]
  }
 ],
 "metadata": {
  "kernelspec": {
   "display_name": "SageMath 9.2",
   "language": "sage",
   "name": "sagemath"
  },
  "language_info": {
   "codemirror_mode": {
    "name": "ipython",
    "version": 3
   },
   "file_extension": ".py",
   "mimetype": "text/x-python",
   "name": "python",
   "nbconvert_exporter": "python",
   "pygments_lexer": "ipython3",
   "version": "3.7.7"
  }
 },
 "nbformat": 4,
 "nbformat_minor": 4
}
