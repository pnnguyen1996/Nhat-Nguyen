{
 "cells": [
  {
   "cell_type": "code",
   "execution_count": 29,
   "metadata": {},
   "outputs": [],
   "source": [
    "# SampleLeft from ABB10\n",
    "# There's still no condition for m_1\n",
    "\"\"\"\n",
    "*Input: \n",
    "A: rank n matrix in Z_q^{nxm} \n",
    "M: matrix in Z_q^{nxm_1}\n",
    "T_A: \"short\" basis  for perp. q-ary lattice corresponding to A\n",
    "u: a vector in Z_q^n\n",
    "sigma: Gaussian parameter (note that sigma > ||Gram-schmitd(T_AP)||.omega(sqrt(log(m+m_1))) )\n",
    "\n",
    "*Output:\n",
    "Let F = (A|M_1). This alg. output a vector e in Z_q^{m+m_1} sampled from a distribution \n",
    "statistically close to lattice Gaussian distribution of F and u with parameter sigma.\n",
    "\"\"\"\n",
    "import random\n",
    "import numpy as np"
   ]
  },
  {
   "cell_type": "code",
   "execution_count": 30,
   "metadata": {},
   "outputs": [],
   "source": [
    "#GENERATE INPUTS:\n",
    "def gaussian(s,c,x):\n",
    "    \"\"\"\n",
    "    *Input: \n",
    "    s: Gaussian parameter\n",
    "    c: Gaussian mean (a real number)\n",
    "    x: Variable\n",
    "    *Output: A real number\n",
    "    exp((-pi*(x-c)^2)/s^2)   \n",
    "    \"\"\"\n",
    "    return exp((-pi*(x-c)^2)/s^2)\n",
    "\n",
    "#====================================================\n",
    "#SampleZ Al. HERE\n",
    "def sampleZalgorithm(n,s,c):\n",
    "    \"\"\"\n",
    "    On input tuple (n,s,c), this Al. returns an integer number with Gaussian distribution\n",
    "    *Input: \n",
    "    n: Security parameter\n",
    "    s: Gaussian parameter\n",
    "    c: Gaussian mean\n",
    "    *Output:\n",
    "    x: A random number with Gaussian distribution \n",
    "    \"\"\"\n",
    "    l =int(c -s*log(n,2))\n",
    "    r = int(c+ s*log(n,2))\n",
    "    i=0\n",
    "    while i<1:\n",
    "        x= random.randint(l,r)\n",
    "        accept = random.uniform(0,1)\n",
    "        if accept < gaussian(s,c,x): \n",
    "            i=i+1\n",
    "            break\n",
    "    return x\n",
    "#====================================\n",
    "\n",
    "def Random_Matrix(n,m):\n",
    "    \"\"\"\n",
    "    *Input: 2 integer n,m \n",
    "    *Output: A random RANK n matrix B(nxm) with coefficients from 0 to q\n",
    "    The output matrix has all row vectors independent\n",
    "    \"\"\"\n",
    "    B=(matrix(ZZ,np.random.randint(q,size=(1,m)))) #first vector of B\n",
    "    size_B=1\n",
    "    while size_B < n:\n",
    "        A = (matrix(ZZ,np.random.randint(q,size=(1,m))))\n",
    "        h=B.rank()\n",
    "        if ((B.stack(A))).rank()==h+1:\n",
    "            B=B.stack(A) \n",
    "            size_B=size_B+1\n",
    "    return(B)\n",
    "#==========================================\n",
    "#hermite normal form basis of a q-ary lattice.\n",
    "def q_arybasis(A_1,q):\n",
    "    \"\"\"\n",
    "    *Input: Arbitrary nxm matrix A_1 \n",
    "    *Output: A HNF of perp. q-ary lattice corresponding to A_1\n",
    "    All column vectors generate the whole lattice.\n",
    "    \"\"\"\n",
    "    k=A_1.nrows()\n",
    "    h =A_1.ncols()\n",
    "    H=matrix(ZZ,((A_1).right_kernel()).basis())\n",
    "    for i in range(k):\n",
    "        H= matrix(ZZ,np.concatenate((H,matrix(q*matrix(np.identity(h,dtype=int))[h-n+i])), axis= 0))\n",
    "    H=H.T\n",
    "    return H\n",
    "#====================================================\n",
    "\n",
    "\n",
    "#NEEDED ALG. IN SAMPLELEFT\n",
    "\n",
    "def SampleD(B,s,c):\n",
    "    \"\"\"\n",
    "    * Input:\n",
    "    B: A basis of any lattice lambda (as a Matrix whose column vectors form the whole lattice)\n",
    "    s: Gaussian parameter\n",
    "    c: Gaussian mean vector \n",
    "    * Output:\n",
    "    A vector in lattice lambda with gaussian distribution\n",
    "    \"\"\"\n",
    "    m= B.rank()\n",
    "    n= next_prime(2^10)\n",
    "    B=B.T\n",
    "    v=zero_vector(ZZ,m)\n",
    "    G=(B.gram_schmidt())[0]\n",
    "    Bc = list(zero_vector(ZZ,m))+[c]\n",
    "    Bv = list(zero_vector(ZZ,m))+[v]\n",
    "    for i in range(m,0,-1):\n",
    "        ci = Bc[i].dot_product(G[i-1])/(G[i-1].dot_product(G[i-1]))\n",
    "        si= s/(G[i-1].norm())\n",
    "        zi= sampleZalgorithm(2031,si,ci)\n",
    "        Bc[i-1]=Bc[i]-zi*B[i-1]\n",
    "        Bv[i-1] = Bv[i] +zi*B[i-1]    \n",
    "    return(Bv[0])\n",
    "\n",
    "#===================================================================================\n",
    "def SampleLeft(A,M, T_A,u,sigma):  #This Alg. is in ABB10, section 4.1\n",
    "    \"\"\"*Input: \n",
    "    A : a RANK n matrix in Z_q^{n*m}\n",
    "    M_1: a random matrix in Z_q^{n*m_1}\n",
    "    T_A: \"short\"  basis of q-ary lattice corresponding to A\n",
    "    u : a random vector in Z_q^n\n",
    "    sigma: a Gaussian parameter\n",
    "    \n",
    "    *Outpt:\n",
    "    Let F = (A|M_1). This alg. output a vector e in Z_q^{m+m_1} sampled from a distribution \n",
    "    statistically close to lattice Gaussian distribution of F with parameter sigma.\n",
    "    \"\"\"\n",
    "    m= A.ncols()\n",
    "    m_1=M.ncols()\n",
    "    e_2= SampleD(identity_matrix(m_1), sigma, zero_vector(ZZ,m_1))\n",
    "    y=vector(GF(q),u-M*e_2)\n",
    "    t= vector(ZZ,A.solve_right(y))\n",
    "    e_1=SampleD(T_A, sigma, -t) + t # Applying SamplePre from ABB10 page 6\n",
    "    e= vector(ZZ,np.concatenate((e_1,e_2), axis = 0))\n",
    "    return e\n",
    "#================================================================================\n",
    "\n",
    "# A TEST CASE\n",
    "q= 79 #next_prime(2^10)\n",
    "r=2\n",
    "n=3\n",
    "m=5\n",
    "m_1= 3\n",
    "A =Random_Matrix(n,m) #Matrix with coefficients in ZZ, from 0 to q\n",
    "T_A=q_arybasis(B,q)\n",
    "M = matrix(ZZ,random_matrix(GF(q), n,m_1)) # Matrix with coefficients in ZZ, from 0 to q\n",
    "u = vector(ZZ,random_vector(GF(q), n))\n"
   ]
  },
  {
   "cell_type": "code",
   "execution_count": 31,
   "metadata": {
    "tags": []
   },
   "outputs": [],
   "source": [
    "#Normalise parameter sigma\n",
    "def gram_schmidt_norm(S): #input matrix S whose columns are independent vectors\n",
    "    m=S.rank()\n",
    "    S_gram=((S.T).gram_schmidt()[0])\n",
    "    S_gram_norm = int(max(((S_gram.rows())[i]).norm() for i in range(m)))+1\n",
    "    return S_gram_norm\n",
    "T_A_gram_norm = gram_schmidt_norm(T_A)\n"
   ]
  },
  {
   "cell_type": "code",
   "execution_count": 32,
   "metadata": {
    "tags": []
   },
   "outputs": [
    {
     "data": {
      "text/plain": [
       "239356"
      ]
     },
     "execution_count": 32,
     "metadata": {},
     "output_type": "execute_result"
    }
   ],
   "source": [
    "T_A_gram_norm "
   ]
  },
  {
   "cell_type": "code",
   "execution_count": 33,
   "metadata": {},
   "outputs": [
    {
     "name": "stdout",
     "output_type": "stream",
     "text": [
      "414577\n"
     ]
    }
   ],
   "source": [
    "sigma = int(T_A_gram_norm*sqrt(log(m+m_1,2)))+1\n",
    "print(sigma)"
   ]
  },
  {
   "cell_type": "code",
   "execution_count": 34,
   "metadata": {
    "tags": []
   },
   "outputs": [],
   "source": [
    "x=SampleLeft(A,M, T_A,u,sigma)"
   ]
  },
  {
   "cell_type": "code",
   "execution_count": 37,
   "metadata": {},
   "outputs": [
    {
     "data": {
      "text/plain": [
       "(74, 40, 28)"
      ]
     },
     "execution_count": 37,
     "metadata": {},
     "output_type": "execute_result"
    }
   ],
   "source": [
    "vector(GF(q),(A.augment(M))*x)\n"
   ]
  },
  {
   "cell_type": "code",
   "execution_count": 16,
   "metadata": {
    "tags": []
   },
   "outputs": [
    {
     "data": {
      "image/png": "[encoded data removed]",
      "text/plain": [
       "Graphics object consisting of 1 graphics primitive"
      ]
     },
     "execution_count": 16,
     "metadata": {},
     "output_type": "execute_result"
    }
   ],
   "source": [
    "histogram([SampleLeft(A,M, T_A,u,sigma) for i in range(100)])"
   ]
  },
  {
   "cell_type": "code",
   "execution_count": null,
   "metadata": {},
   "outputs": [],
   "source": []
  }
 ],
 "metadata": {
  "kernelspec": {
   "display_name": "SageMath 9.2",
   "language": "sage",
   "name": "sagemath"
  },
  "language_info": {
   "codemirror_mode": {
    "name": "ipython",
    "version": 3
   },
   "file_extension": ".py",
   "mimetype": "text/x-python",
   "name": "python",
   "nbconvert_exporter": "python",
   "pygments_lexer": "ipython3",
   "version": "3.7.7"
  }
 },
 "nbformat": 4,
 "nbformat_minor": 4
}
