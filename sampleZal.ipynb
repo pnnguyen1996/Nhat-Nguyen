{
 "cells": [
  {
   "cell_type": "code",
   "execution_count": 6,
   "metadata": {},
   "outputs": [],
   "source": [
    "# SampleZ algorithm from GPV08, Lemma. 4.2\n",
    "import random\n",
    "import time\n",
    "import numpy as np"
   ]
  },
  {
   "cell_type": "code",
   "execution_count": 11,
   "metadata": {},
   "outputs": [
    {
     "name": "stdout",
     "output_type": "stream",
     "text": [
      "0.18501043319702148\n"
     ]
    }
   ],
   "source": [
    "def gaussian(s,c,x):\n",
    "    \"\"\"\n",
    "    *Input: \n",
    "    s: Gaussian parameter\n",
    "    c: Gaussian mean (a real number)\n",
    "    x: Variable\n",
    "    *Output: A real number\n",
    "    exp((-pi*(x-c)^2)/s^2)   \n",
    "    \"\"\"\n",
    "    return exp((-pi*(x-c)^2)/s^2)\n",
    "\n",
    "#====================================================\n",
    "#SampleZ Al. HERE\n",
    "def sampleZalgorithm(n,s,c):\n",
    "    \"\"\"\n",
    "    On input tuple (n,s,c), this Al. returns an integer number with Gaussian distribution\n",
    "    *Input: \n",
    "    n: Security parameter\n",
    "    s: Gaussian parameter\n",
    "    c: Gaussian mean\n",
    "    *Output:\n",
    "    x: A random number with Gaussian distribution \n",
    "    \"\"\"\n",
    "    l =int(c -s*log(n,2))\n",
    "    r = int(c+ s*log(n,2))\n",
    "    i=0\n",
    "    while i<1:\n",
    "        x= random.randint(l,r)\n",
    "        accept = random.uniform(0,1)\n",
    "        if accept < gaussian(s,c,x): \n",
    "            i=i+1\n",
    "            break\n",
    "    return x\n",
    "#=====================================================\n",
    "# A TEST CASE\n",
    "n = next_prime(2^10)\n",
    "s = 10\n",
    "c= 5\n",
    "\n",
    "y=(sampleZalgorithm(n,s,c));y\n",
    "#histogram([sampleZalgorithm(n,s,c) for i in range(10000)])"
   ]
  },
  {
   "cell_type": "code",
   "execution_count": null,
   "metadata": {},
   "outputs": [],
   "source": []
  }
 ],
 "metadata": {
  "kernelspec": {
   "display_name": "SageMath 9.2",
   "language": "sage",
   "name": "sagemath"
  },
  "language_info": {
   "codemirror_mode": {
    "name": "ipython",
    "version": 3
   },
   "file_extension": ".py",
   "mimetype": "text/x-python",
   "name": "python",
   "nbconvert_exporter": "python",
   "pygments_lexer": "ipython3",
   "version": "3.7.7"
  }
 },
 "nbformat": 4,
 "nbformat_minor": 4
}
