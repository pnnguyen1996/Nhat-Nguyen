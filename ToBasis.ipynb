{
 "cells": [
  {
   "cell_type": "code",
   "execution_count": 4,
   "metadata": {
    "tags": []
   },
   "outputs": [],
   "source": [
    "#ToBasis Al. is constructed in MG02 and mentioned in CHKP10, lemma 2.1 and ABB10 lemma 3\n",
    "import numpy as np"
   ]
  },
  {
   "cell_type": "code",
   "execution_count": 5,
   "metadata": {
    "tags": []
   },
   "outputs": [],
   "source": [
    "def Matrix_Basis(n,m_1,q):   \n",
    "#generate a q-ary lattice and it's basis in lower triangle matrix form\n",
    "    \"\"\"\n",
    "    Input: \n",
    "    n: The number of rows of output matrix A\n",
    "    m_1: The number of columns of output matrix A\n",
    "    q: A prime number\n",
    "    *Output: A couple includes\n",
    "    A: An nxm_1 integer matrix \n",
    "    T_A: Basis (as matrix) of perp. q-ary lattice corresponding to A\n",
    "    \"\"\"\n",
    "    #m_2=l*m_1\n",
    "    A=matrix(GF(q),np.random.randint(q,size=(n,m_1)))\n",
    "    C=matrix(ZZ,np.identity(m_1, dtype= int))\n",
    "    #hermite normal form basis function.\n",
    "    def q_arybasis(A,q):\n",
    "        H=matrix(ZZ,((A).right_kernel()).basis())\n",
    "        for i in range(n):\n",
    "            H= matrix(ZZ,np.concatenate((H,matrix(q*C[m_1-n+i])), axis= 0))\n",
    "        H=H.T\n",
    "        return H\n",
    "    T_A=q_arybasis(A,q)\n",
    "    return(A,T_A)\n",
    "#=============================================================\n",
    "\n",
    "def independent_vector(S): \n",
    "#generate random and linearly independent vectors from basis S of a lattice\n",
    "    \"\"\"\n",
    "    *Input: \n",
    "    S: Basis of lattice\n",
    "    *Output:\n",
    "    A matrix B whose rows are independent vectors in lattice which has Basis S\n",
    "    \"\"\"\n",
    "    m_1=S.rank()\n",
    "    B=matrix(S*vector(matrix(ZZ,np.random.randint(q,size=(m_1,1))))).T #first vector of B\n",
    "    size_B=1\n",
    "    while size_B < m_1:\n",
    "        A = vector(matrix(ZZ,np.random.randint(q,size=(m_1,1))))\n",
    "        A = matrix(S*A).T\n",
    "        if B.rank()==m_1:\n",
    "            break\n",
    "        h=(B.T).rank()\n",
    "        if ((B.augment(A)).T).rank()==h+1:\n",
    "            B=B.augment(A) \n",
    "            size_B=size_B+1\n",
    "    return(B)\n",
    "# ===========================================================\n",
    "def ToBasis(V,S):\n",
    "    \"\"\"\n",
    "    *Input:\n",
    "    V: Independent short lattice vectors\n",
    "    S: A basis of lattice L\n",
    "    *Output: \n",
    "    A new short basis S_1 of lattice L\n",
    "    \"\"\"\n",
    "    Q=matrix(ZZ,(S**(-1))*V)\n",
    "    T = Q.echelon_form()\n",
    "    U= Q*(T**(-1))\n",
    "    S_1=matrix(ZZ,S*U)\n",
    "    return(S_1,U)\n",
    "#===================================================================\n",
    "# A TEST CASE\n",
    "#r=2\n",
    "n=5\n",
    "q= 79 #next_prime(2^10)\n",
    "    #def GenTrap(n,q,r):\n",
    "m_1=20 #int(2*n*log(q,2))\n",
    "#l= int(log(q,r))\n",
    "#d=int(2*n*log(q,2))\n",
    "A_1,S=Matrix_Basis(n,m_1,q)\n",
    "V=independent_vector(S)\n",
    "\n",
    "#====================================\n",
    "\n",
    "S_1,U=ToBasis(V,S)"
   ]
  },
  {
   "cell_type": "code",
   "execution_count": 6,
   "metadata": {},
   "outputs": [
    {
     "name": "stdout",
     "output_type": "stream",
     "text": [
      "[51 66 16 13  2 60 71  0 46 74 39 29  2 14 29  5 42 17 35 40]\n",
      "[19 16  9  4 48 78 27 36 21 30  3 71 58 76 43 75 29 50 23 76]\n",
      "[ 5  6  0 65 68 17 15 59 26 77  6 72 30 60 51 52 36 12 34  7]\n",
      "[ 7 52 35 77 39 38 78  4 75 27 69 38 16 73 30 23 13 26 33 18]\n",
      "[ 8 36 31 54 33  5 75 77 18  9 18  0  7  0  0 12  3 56 16 57]\n",
      "[ 4 16 39 26 41 57  1 65  1 75 38 14 47  9  9 55  9 31 31 39]\n",
      "[72  9 72 76 33 12 38 16 74 58 23  2 15 76 28 40 21 53  7 70]\n",
      "[11 43 69 23 43 47 47 60 12 24 48 66 70 13 70 13 18 18 76  1]\n",
      "[49  7  3 23 19  4  1 43  1  4 18 44 68 58 29 21 75  7 49 20]\n",
      "[76 27 23 27 21 50 23  0 10 74 62 46 43 45 71 14 39 76  1 72]\n",
      "[22 57  8 50 11  0 15  0 45 44 28 27 40  7 41 23 73 34 59  9]\n",
      "[45 25 46 50 65 62 41 27 13 23  2 73 43 57 28 14 20 23  4 46]\n",
      "[77  7 76 48 46  7 33 33  0 59 36  9 57 52 35 72 44  9 56 78]\n",
      "[ 6 46 13 52 76 64 63 24 69 28 71 42 32 46 21 60 32  8 61  6]\n",
      "[78 73 53 58 75 67 24  1 71  8 73 44 41 70 58  7 63 39 59 47]\n",
      "[34  9 61 64 57  5 29 66 34 71 54 48 68 61 35 41 40 24  9 26]\n",
      "[45 46 37 39 22 54  1 52 58 48 63 65 31  6 52 29 74 10 61 64]\n",
      "[72 25 47  1 56 60 55 30 34 51 45 50 41 55 61 52 62 69 62 33]\n",
      "[12 69 38 37 37 26  1 30 43 32 16 35 65 18 36 40 22 36 22 75]\n",
      "[ 9 11 61 12 58 29 40 74 12 28 47 43 33 34 11 63 22 75 54 13]\n"
     ]
    }
   ],
   "source": [
    "Q=S**(-1)*V\n",
    "print(Q)"
   ]
  },
  {
   "cell_type": "code",
   "execution_count": 7,
   "metadata": {},
   "outputs": [
    {
     "data": {
      "text/plain": [
       "[0 0 0 0 0 0 0 0 0 0 0 0 0 0 0 0 0 0 0 0]\n",
       "[0 0 0 0 0 0 0 0 0 0 0 0 0 0 0 0 0 0 0 0]\n",
       "[0 0 0 0 0 0 0 0 0 0 0 0 0 0 0 0 0 0 0 0]\n",
       "[0 0 0 0 0 0 0 0 0 0 0 0 0 0 0 0 0 0 0 0]\n",
       "[0 0 0 0 0 0 0 0 0 0 0 0 0 0 0 0 0 0 0 0]"
      ]
     },
     "execution_count": 7,
     "metadata": {},
     "output_type": "execute_result"
    }
   ],
   "source": [
    "#Check if S is basis of labda_perp(A_1)\n",
    "A_1*S"
   ]
  },
  {
   "cell_type": "code",
   "execution_count": 9,
   "metadata": {},
   "outputs": [
    {
     "name": "stdout",
     "output_type": "stream",
     "text": [
      "-1\n"
     ]
    },
    {
     "data": {
      "text/plain": [
       "[0 0 0 0 0 0 0 0 0 0 0 0 0 0 0 0 0 0 0 0]\n",
       "[0 0 0 0 0 0 0 0 0 0 0 0 0 0 0 0 0 0 0 0]\n",
       "[0 0 0 0 0 0 0 0 0 0 0 0 0 0 0 0 0 0 0 0]\n",
       "[0 0 0 0 0 0 0 0 0 0 0 0 0 0 0 0 0 0 0 0]\n",
       "[0 0 0 0 0 0 0 0 0 0 0 0 0 0 0 0 0 0 0 0]"
      ]
     },
     "execution_count": 9,
     "metadata": {},
     "output_type": "execute_result"
    }
   ],
   "source": [
    "#Check if S_1 is basis of labda_perp(A_1)\n",
    "print(det(S_1^(-1)*S))\n",
    "A_1*S_1"
   ]
  },
  {
   "cell_type": "code",
   "execution_count": 10,
   "metadata": {},
   "outputs": [
    {
     "data": {
      "text/plain": [
       "-1"
      ]
     },
     "execution_count": 10,
     "metadata": {},
     "output_type": "execute_result"
    }
   ],
   "source": [
    "#check if U is unimodular matrix\n",
    "U.det()\n"
   ]
  },
  {
   "cell_type": "code",
   "execution_count": 9,
   "metadata": {},
   "outputs": [
    {
     "name": "stdout",
     "output_type": "stream",
     "text": [
      "[     51      66      16      13       2      60      71       0      46      74      39      29       2      14      29       5      42      17    -155    -337]\n",
      "[     19      16       9       4      48      78      27      36      21      30       3      71      58      76      43      75      29      50    -185    -320]\n",
      "[      5       6       0      65      68      17      15      59      26      77       6      72      30      60      51      52      36      12    -188    -340]\n",
      "[      7      52      35      77      39      38      78       4      75      27      69      38      16      73      30      23      13      26    -206    -389]\n",
      "[      8      36      31      54      33       5      75      77      18       9      18       0       7       0       0      12       3      56    -147    -205]\n",
      "[      4      16      39      26      41      57       1      65       1      75      38      14      47       9       9      55       9      31    -139    -236]\n",
      "[     72       9      72      76      33      12      38      16      74      58      23       2      15      76      28      40      21      53    -249    -318]\n",
      "[     11      43      69      23      43      47      47      60      12      24      48      66      70      13      70      13      18      18    -221    -346]\n",
      "[     49       7       3      23      19       4       1      43       1       4      18      44      68      58      29      21      75       7    -165    -266]\n",
      "[     76      27      23      27      21      50      23       0      10      74      62      46      43      45      71      14      39      76    -273    -370]\n",
      "[     22      57       8      50      11       0      15       0      45      44      28      27      40       7      41      23      73      34    -213    -267]\n",
      "[     45      25      46      50      65      62      41      27      13      23       2      73      43      57      28      14      20      23    -195    -322]\n",
      "[     77       7      76      48      46       7      33      33       0      59      36       9      57      52      35      72      44       9    -223    -333]\n",
      "[      6      46      13      52      76      64      63      24      69      28      71      42      32      46      21      60      32       8    -206    -369]\n",
      "[     78      73      53      58      75      67      24       1      71       8      73      44      41      70      58       7      63      39    -349    -414]\n",
      "[  22497   20000   24956   29050   31102   26556   23017   22283   22403   26964   27312   28161   28730   32468   26097   22409   21179   22442 -147084 -223073]\n",
      "[  27621   26450   27248   33763   32957   31606   25342   26996   26905   33509   28874   33110   28680   29821   30286   24736   28918   21925 -166591 -252862]\n",
      "[  29281   26108   24892   27779   30067   31627   33289   17954   26009   30268   28043   29250   27008   32789   27894   25395   27627   25881 -159845 -246597]\n",
      "[  26630   26036   21429   29649   26387   23777   22420   20389   24767   30227   21968   27361   28072   31147   27911   22647   26986   24029 -151242 -228901]\n",
      "[  28467   24792   30647   34936   33193   26155   28180   26465   24416   29444   29653   30295   29873   34109   28809   23343   26817   31936 -174322 -250822]\n"
     ]
    }
   ],
   "source": [
    "print(S_1)"
   ]
  },
  {
   "cell_type": "code",
   "execution_count": null,
   "metadata": {},
   "outputs": [],
   "source": []
  }
 ],
 "metadata": {
  "kernelspec": {
   "display_name": "SageMath 9.2",
   "language": "sage",
   "name": "sagemath"
  },
  "language_info": {
   "codemirror_mode": {
    "name": "ipython",
    "version": 3
   },
   "file_extension": ".py",
   "mimetype": "text/x-python",
   "name": "python",
   "nbconvert_exporter": "python",
   "pygments_lexer": "ipython3",
   "version": "3.7.7"
  }
 },
 "nbformat": 4,
 "nbformat_minor": 4
}
