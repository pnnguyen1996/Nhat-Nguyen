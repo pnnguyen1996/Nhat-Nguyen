{
 "cells": [
  {
   "cell_type": "code",
   "execution_count": 129,
   "metadata": {},
   "outputs": [],
   "source": [
    "# When input a lattice basis S, this program returns a new basis for the same basis.\n",
    "# This includes SampleD Al. as a lattice vector sampling oracle.  \n",
    "# The condition of s is: s > ||Gram-schmitch(S)||.\\omega(\\sqrt(log(n)))\n",
    "import numpy as np\n",
    "import random"
   ]
  },
  {
   "cell_type": "code",
   "execution_count": 130,
   "metadata": {},
   "outputs": [],
   "source": [
    "#============================================\n",
    "def tn(x):\n",
    "    return log(x,2)\n",
    "def gaussian(s,c,x):\n",
    "    return exp((-pi*(x-c)^2)/s^2)\n",
    "#===========================================\n",
    "def sampleZalgorithm(s, c):\n",
    "    \"\"\"\n",
    "    On input tuple (n,s,c), this Al. returns an integer number with Gaussian distribution\n",
    "    *Input: \n",
    "    n: Security parameter\n",
    "    s: Gaussian parameter\n",
    "    c: Gaussian mean\n",
    "    *Output:\n",
    "    x: A random number with Gaussian distribution \n",
    "    \"\"\"\n",
    "    l = int(c -s*tn(n))\n",
    "    r = int(c+ s*tn(n))\n",
    "    i=0\n",
    "    while i<1:\n",
    "        x= random.randint(l,r)\n",
    "        accept = random.uniform(0,1)\n",
    "        if accept < gaussian(s,c,x): \n",
    "            samples = x\n",
    "            i=i+1\n",
    "            break\n",
    "    return samples\n",
    "\n",
    "#============================================\n",
    "def sampleDalgorithm(B,s,c): #B is a list of m vectors\n",
    "    \"\"\"\n",
    "    * Input:\n",
    "    B: A basis of any lattice lambda (as a Matrix whose column vectors form the whole lattice)\n",
    "    s: Gaussian parameter\n",
    "    c: Gaussian mean vector \n",
    "    * Output:\n",
    "    A vector in lattice lambda with gaussian distribution\n",
    "    \"\"\"\n",
    "    m=B.rank()\n",
    "    B=B.T\n",
    "    v=zero_vector(ZZ,m)\n",
    "    G=(B.gram_schmidt())[0]\n",
    "    Bc = list(zero_vector(ZZ,m))+[c]\n",
    "    Bv = list(zero_vector(ZZ,m))+[v]\n",
    "    for i in range(m,0,-1):\n",
    "        ci = Bc[i].dot_product(G[i-1])/(G[i-1].dot_product(G[i-1]))\n",
    "        si= s/((G[i-1].dot_product(G[i-1]))^(1/2))\n",
    "        zi= sampleZalgorithm(si,ci)\n",
    "        Bc[i-1]=Bc[i]-zi*B[i-1]\n",
    "        Bv[i-1] = Bv[i] +zi*B[i-1]\n",
    "    return(Bv[0])\n",
    "\n",
    "#==============================================\n",
    "def ToBasis(V,S):  #V, S are 2 matrices\n",
    "    \"\"\"\n",
    "    *Input:\n",
    "    V: Independent short lattice vectors\n",
    "    S: A basis of lattice L\n",
    "    *Output: \n",
    "    A new short basis S_1 of lattice L\n",
    "    \"\"\"\n",
    "    Q=matrix(ZZ,(S**(-1))*V)\n",
    "    T = Q.echelon_form()\n",
    "    U= Q*(T**(-1))\n",
    "    S_1=matrix(ZZ,S*U)\n",
    "    return(S_1)\n",
    "\n",
    "#=================================================\n",
    "    #generate lattice and it's basis\n",
    "def Random_Matrix(m):\n",
    "    \"\"\"\n",
    "    *Input: An integer m \n",
    "    *Output: A random RANK m squared matrix B with coefficients from 0 to q\n",
    "    The output matrix has all column vectors independent\n",
    "    \"\"\"\n",
    "    B=(matrix(ZZ,np.random.randint(q,size=(m,1)))) #first vector of B\n",
    "    size_B=1\n",
    "    while size_B < m:\n",
    "        A = (matrix(ZZ,np.random.randint(q,size=(m,1))))\n",
    "        h=(B.T).rank()\n",
    "        if ((B.augment(A)).T).rank()==h+1:\n",
    "            B=B.augment(A) \n",
    "            size_B=size_B+1\n",
    "    return(B)\n",
    "\n",
    "#===================================================\n",
    "def RandBasis(S, s):\n",
    "    \"\"\"\n",
    "    *Input: \n",
    "    S: Basis of a lattice L (as a matrix form)\n",
    "    s: Gaussian parameter   (note that s > ||gram_schmitd(S)||*omega(sqrt(log(n,2))))\n",
    "    *Output:\n",
    "    A new short basis of lattice L\n",
    "    \"\"\"\n",
    "    #preparation for SampleD\n",
    "    m=S.ncols()\n",
    "    c=zero_vector(ZZ,m)\n",
    "    V=matrix(sampleDalgorithm(S,s,c))\n",
    "    i=1\n",
    "    while i <m:\n",
    "        if (V.stack(matrix(sampleDalgorithm(S,s,c)))).rank()>i:\n",
    "            V=V.stack(matrix(sampleDalgorithm(S,s,c)))\n",
    "            i=i+1\n",
    "    V=V.T\n",
    "    A=ToBasis(V,((S.T).hermite_form()).T)\n",
    "    return A\n",
    "\n",
    "#===================================================\n",
    "# A TEST CASE\n",
    "q= next_prime(2^10)\n",
    "    #def GenTrap(n,q,r):\n",
    "n=next_prime(2^10)\n",
    "m= 20 #int(2*n*log(q,2))\n",
    "\n",
    "#l= int(log(q,r))\n",
    "#d=int(2*n*log(q,2))\n",
    "S=(Random_Matrix(m).T)"
   ]
  },
  {
   "cell_type": "code",
   "execution_count": 81,
   "metadata": {
    "tags": []
   },
   "outputs": [
    {
     "data": {
      "text/plain": [
       "11"
      ]
     },
     "execution_count": 81,
     "metadata": {},
     "output_type": "execute_result"
    }
   ],
   "source": [
    "# Normalise parameter s\n",
    "def gram_schmidt_norm(S):\n",
    "    m=S.rank()\n",
    "    S_gram=((S.T).gram_schmidt()[0])\n",
    "    S_gram_norm = int(max(((S_gram.rows())[i]).norm() for i in range(m)))+1\n",
    "    return S_gram_norm\n",
    "gram_schmidt_norm(S)"
   ]
  },
  {
   "cell_type": "code",
   "execution_count": 61,
   "metadata": {},
   "outputs": [
    {
     "data": {
      "text/plain": [
       "4696"
      ]
     },
     "execution_count": 61,
     "metadata": {},
     "output_type": "execute_result"
    }
   ],
   "source": [
    "s= int((S_gram_norm)*sqrt(log(n,2)))+1;s\n"
   ]
  },
  {
   "cell_type": "code",
   "execution_count": 62,
   "metadata": {},
   "outputs": [],
   "source": [
    "S_1=RandBasis(S, s)"
   ]
  },
  {
   "cell_type": "code",
   "execution_count": 59,
   "metadata": {},
   "outputs": [
    {
     "name": "stdout",
     "output_type": "stream",
     "text": [
      "1\n"
     ]
    }
   ],
   "source": [
    "#Check if S_1 is a basis of lattice\n",
    "print(S.det()/(S_1.det()))"
   ]
  },
  {
   "cell_type": "code",
   "execution_count": 126,
   "metadata": {},
   "outputs": [
    {
     "data": {
      "text/plain": [
       "[ 0 -1 -1]\n",
       "[-1  1 28]\n",
       "[-1  3  0]"
      ]
     },
     "execution_count": 126,
     "metadata": {},
     "output_type": "execute_result"
    }
   ],
   "source": [
    "S= random_matrix(ZZ,3,3);S\n"
   ]
  },
  {
   "cell_type": "code",
   "execution_count": 127,
   "metadata": {},
   "outputs": [
    {
     "data": {
      "text/plain": [
       "(array([[ 0.        , -0.57735027,  0.81649658],\n",
       "        [ 0.70710678, -0.57735027, -0.40824829],\n",
       "        [ 0.70710678,  0.57735027,  0.40824829]]),\n",
       " array([[ -1.41421356,   2.82842712,  19.79898987],\n",
       "        [  0.        ,   1.73205081, -15.58845727],\n",
       "        [  0.        ,   0.        , -12.24744871]]))"
      ]
     },
     "execution_count": 127,
     "metadata": {},
     "output_type": "execute_result"
    }
   ],
   "source": [
    "np.linalg.qr(S)"
   ]
  },
  {
   "cell_type": "code",
   "execution_count": 128,
   "metadata": {},
   "outputs": [
    {
     "data": {
      "text/plain": [
       "(\n",
       "[       0       -1       -1]  [      1       0       0]\n",
       "[      -1    -27/2     27/2]  [  -29/2       1       0]\n",
       "[-810/731   30/731  -30/731], [   -3/2 -79/731       1]\n",
       ")"
      ]
     },
     "execution_count": 128,
     "metadata": {},
     "output_type": "execute_result"
    }
   ],
   "source": [
    "S.gram_schmidt()"
   ]
  },
  {
   "cell_type": "code",
   "execution_count": null,
   "metadata": {},
   "outputs": [],
   "source": [
    "A=random_matrix(ZZ,259,259)"
   ]
  }
 ],
 "metadata": {
  "kernelspec": {
   "display_name": "SageMath 9.2",
   "language": "sage",
   "name": "sagemath"
  },
  "language_info": {
   "codemirror_mode": {
    "name": "ipython",
    "version": 3
   },
   "file_extension": ".py",
   "mimetype": "text/x-python",
   "name": "python",
   "nbconvert_exporter": "python",
   "pygments_lexer": "ipython3",
   "version": "3.7.7"
  }
 },
 "nbformat": 4,
 "nbformat_minor": 4
}
